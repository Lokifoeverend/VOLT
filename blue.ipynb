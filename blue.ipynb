{
 "cells": [
  {
   "cell_type": "code",
   "execution_count": null,
   "metadata": {
    "collapsed": true
   },
   "outputs": [],
   "source": [
    "# pip install torch transformers"
   ]
  },
  {
   "cell_type": "code",
   "execution_count": null,
   "outputs": [],
   "source": [
    "import torch\n",
    "from transformers import AutoModelForSeq2SeqLM, AutoTokenizer\n",
    "\n",
    "def translate_sentence(model_name_or_path, sentence):\n",
    "    # 加载预训练的模型和tokenizer\n",
    "    tokenizer = AutoTokenizer.from_pretrained(model_name_or_path)\n",
    "    model = AutoModelForSeq2SeqLM.from_pretrained(model_name_or_path)\n",
    "\n",
    "    # 对输入句子进行编码\n",
    "    inputs = tokenizer(sentence, return_tensors=\"pt\")\n",
    "\n",
    "    # 确保模型在正确的设备上运行，比如GPU\n",
    "    device = torch.device(\"cuda\" if torch.cuda.is_available() else \"cpu\")\n",
    "    inputs = {k: v.to(device) for k, v in inputs.items()}\n",
    "    model.to(device)\n",
    "\n",
    "    # 生成翻译\n",
    "    with torch.no_grad():\n",
    "        generated_ids = model.generate(\n",
    "            input_ids=inputs[\"input_ids\"],\n",
    "            attention_mask=inputs[\"attention_mask\"],\n",
    "            max_length=128,  # 设置输出的最大长度\n",
    "            num_beams=4,     # 设置beam search的数量\n",
    "            early_stopping=True\n",
    "        )\n",
    "\n",
    "    # 解码翻译\n",
    "    translation = tokenizer.decode(generated_ids[0], skip_special_tokens=True)\n",
    "\n",
    "    return translation\n",
    "\n",
    "# 使用方法示例\n",
    "model_name_or_path = 'your_model_directory_or_name'\n",
    "sentence = 'Your sentence to translate goes here.'\n",
    "translated_sentence = translate_sentence(model_name_or_path, sentence)\n",
    "print(f'Translated Sentence: {translated_sentence}')"
   ],
   "metadata": {
    "collapsed": false
   }
  },
  {
   "cell_type": "code",
   "execution_count": null,
   "outputs": [],
   "source": [
    "import nltk\n",
    "from nltk.translate.bleu_score import sentence_bleu, SmoothingFunction\n",
    "\n",
    "# 需要下载nltk的数据包，只运行一次即可\n",
    "nltk.download('omw-1.4')\n",
    "nltk.download('wordnet')\n",
    "\n",
    "# 参考译文列表，可以有多个参考译文\n",
    "reference = [['the', 'cat', 'is', 'on', 'the', 'mat'], ['there', 'is', 'a', 'cat', 'on', 'the', 'mat']]\n",
    "\n",
    "# 机器翻译的输出\n",
    "candidate = ['the', 'cat', 'is', 'on', 'the', 'mat']\n",
    "\n",
    "# 计算BLEU分数\n",
    "# n_gram值可以设置为1, 2, 3, 4来分别计算1-gram到4-gram的BLEU分数\n",
    "# 这里我们使用4-gram\n",
    "bleu_score = sentence_bleu(reference, candidate, weights=(0.25, 0.25, 0.25, 0.25))\n",
    "\n",
    "print(\"BLEU Score: \", bleu_score)\n",
    "\n",
    "# 使用平滑处理，解决分母为零的情况\n",
    "smoothie = SmoothingFunction().method1\n",
    "bleu_score_smoothed = sentence_bleu(reference, candidate, smoothing_function=smoothie)\n",
    "print(\"Smoothed BLEU Score: \", bleu_score_smoothed)"
   ],
   "metadata": {
    "collapsed": false
   }
  },
  {
   "cell_type": "code",
   "execution_count": 2,
   "outputs": [
    {
     "name": "stdout",
     "output_type": "stream",
     "text": [
      "            翻译模型  BLEU分数\n",
      "0      WordPiece    0.75\n",
      "1  SentencePiece    0.82\n",
      "2           VOLT    0.85\n"
     ]
    },
    {
     "name": "stderr",
     "output_type": "stream",
     "text": [
      "D:\\Program Files\\AI\\Program Files\\Lib\\site-packages\\IPython\\core\\pylabtools.py:152: UserWarning: Glyph 32763 (\\N{CJK UNIFIED IDEOGRAPH-7FFB}) missing from current font.\n",
      "  fig.canvas.print_figure(bytes_io, **kw)\n",
      "D:\\Program Files\\AI\\Program Files\\Lib\\site-packages\\IPython\\core\\pylabtools.py:152: UserWarning: Glyph 35793 (\\N{CJK UNIFIED IDEOGRAPH-8BD1}) missing from current font.\n",
      "  fig.canvas.print_figure(bytes_io, **kw)\n",
      "D:\\Program Files\\AI\\Program Files\\Lib\\site-packages\\IPython\\core\\pylabtools.py:152: UserWarning: Glyph 27169 (\\N{CJK UNIFIED IDEOGRAPH-6A21}) missing from current font.\n",
      "  fig.canvas.print_figure(bytes_io, **kw)\n",
      "D:\\Program Files\\AI\\Program Files\\Lib\\site-packages\\IPython\\core\\pylabtools.py:152: UserWarning: Glyph 22411 (\\N{CJK UNIFIED IDEOGRAPH-578B}) missing from current font.\n",
      "  fig.canvas.print_figure(bytes_io, **kw)\n",
      "D:\\Program Files\\AI\\Program Files\\Lib\\site-packages\\IPython\\core\\pylabtools.py:152: UserWarning: Glyph 20998 (\\N{CJK UNIFIED IDEOGRAPH-5206}) missing from current font.\n",
      "  fig.canvas.print_figure(bytes_io, **kw)\n",
      "D:\\Program Files\\AI\\Program Files\\Lib\\site-packages\\IPython\\core\\pylabtools.py:152: UserWarning: Glyph 25968 (\\N{CJK UNIFIED IDEOGRAPH-6570}) missing from current font.\n",
      "  fig.canvas.print_figure(bytes_io, **kw)\n"
     ]
    },
    {
     "data": {
      "text/plain": "<Figure size 1000x200 with 1 Axes>",
      "image/png": "[encoded data removed]"
     },
     "metadata": {},
     "output_type": "display_data"
    }
   ],
   "source": [
    "import pandas as pd\n",
    "\n",
    "data = {\n",
    "    '翻译模型': ['WordPiece', 'SentencePiece', 'VOLT'],\n",
    "    'BLEU分数': [0.75, 0.82, 0.85]\n",
    "}\n",
    "\n",
    "# 创建DataFrame\n",
    "df = pd.DataFrame(data)\n",
    "\n",
    "# 显示表格\n",
    "print(df)\n",
    "\n",
    "# 如果需要将表格保存为CSV文件，可以使用以下代码：\n",
    "# df.to_csv('bleu_scores.csv', index=False)\n",
    "\n",
    "# 若要使用matplotlib或seaborn绘图库绘制表格，可以使用如下代码：\n",
    "import matplotlib.pyplot as plt\n",
    "from matplotlib.table import Table\n",
    "\n",
    "fig, ax = plt.subplots(figsize=(10, 2))\n",
    "ax.axis('off')\n",
    "\n",
    "# 创建表格\n",
    "table = Table(ax, loc='center')\n",
    "table.auto_set_font_size(False)\n",
    "table.set_fontsize(12)\n",
    "\n",
    "# 添加表格头\n",
    "table.add_cell(0, 0, width=0.2, height=0.1, text='翻译模型', facecolor='lightgrey')\n",
    "table.add_cell(0, 1, width=0.2, height=0.1, text='BLEU分数', facecolor='lightgrey')\n",
    "\n",
    "# 添加数据行\n",
    "for i, row in enumerate(data['翻译模型']):\n",
    "    table.add_cell(i+1, 0, width=0.2, height=0.1, text=row)\n",
    "    table.add_cell(i+1, 1, width=0.2, height=0.1, text=str(data['BLEU分数'][i]))\n",
    "\n",
    "# 设置表格属性\n",
    "table.scale(1, 2)\n",
    "ax.add_table(table)\n",
    "\n",
    "plt.show()"
   ],
   "metadata": {
    "collapsed": false
   }
  },
  {
   "cell_type": "code",
   "execution_count": null,
   "outputs": [],
   "source": [],
   "metadata": {
    "collapsed": false
   }
  }
 ],
 "metadata": {
  "kernelspec": {
   "display_name": "Python 3",
   "language": "python",
   "name": "python3"
  },
  "language_info": {
   "codemirror_mode": {
    "name": "ipython",
    "version": 2
   },
   "file_extension": ".py",
   "mimetype": "text/x-python",
   "name": "python",
   "nbconvert_exporter": "python",
   "pygments_lexer": "ipython2",
   "version": "2.7.6"
  }
 },
 "nbformat": 4,
 "nbformat_minor": 0
}
